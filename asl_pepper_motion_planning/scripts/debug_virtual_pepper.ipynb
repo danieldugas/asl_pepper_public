{
 "cells": [
  {
   "cell_type": "code",
   "execution_count": null,
   "metadata": {},
   "outputs": [],
   "source": [
    "from pepper_2d_simulator import *\n",
    "from timeit import default_timer as timer\n",
    "import pose2d\n",
    "from copy import deepcopy"
   ]
  },
  {
   "cell_type": "code",
   "execution_count": null,
   "metadata": {},
   "outputs": [],
   "source": [
    "from matplotlib import pyplot as plt\n",
    "%matplotlib notebook"
   ]
  },
  {
   "cell_type": "code",
   "execution_count": null,
   "metadata": {},
   "outputs": [],
   "source": [
    "map_ = Map2D(\".\", \"office_full\")\n",
    "start = timer()\n",
    "map_8ds = map_.as_coarse_map2d().as_coarse_map2d().as_coarse_map2d()\n",
    "print(\"8x Downsampling: {}s\".format(timer()- start))"
   ]
  },
  {
   "cell_type": "code",
   "execution_count": null,
   "metadata": {},
   "outputs": [],
   "source": [
    "def gridshow(*args, **kwargs):\n",
    "    if not 'origin' in kwargs:\n",
    "        kwargs['origin'] = 'lower'\n",
    "    return plt.imshow(*(arg.T if i == 0 else arg for i, arg in enumerate(args)), **kwargs)"
   ]
  },
  {
   "cell_type": "code",
   "execution_count": null,
   "metadata": {},
   "outputs": [],
   "source": [
    "kNMessages = 10\n",
    "kPepperWidth = 0.48\n",
    "kPepperComfortZoneRadius = 0.5\n",
    "kDijkstraTSDFPenalty = 10.\n",
    "kLocalAreaLimits = np.array([[-3., 5.],\n",
    "                             [-3., 3.]])"
   ]
  },
  {
   "cell_type": "markdown",
   "metadata": {},
   "source": [
    "## Debug Local TSDF"
   ]
  },
  {
   "cell_type": "code",
   "execution_count": null,
   "metadata": {
    "scrolled": false
   },
   "outputs": [],
   "source": [
    "from pyniel.ros_tools.quickros import QuickSubscriber\n",
    "from sensor_msgs.msg import LaserScan\n",
    "q = QuickSubscriber(\"sick_laser_front/cropped_scan\", LaserScan, kNMessages,\n",
    "                    tf_parent_frame=\"odom\")"
   ]
  },
  {
   "cell_type": "code",
   "execution_count": null,
   "metadata": {},
   "outputs": [],
   "source": [
    "scan = q.messages[0]\n",
    "single_scan_map = Map2D()\n",
    "start = timer()\n",
    "scan.ranges = [1000. if r == 0 else r for r in scan.ranges] # find far away points\n",
    "single_scan_map.from_scan(scan, map_.resolution(), kLocalAreaLimits)\n",
    "print(\"Reverse raytrace: {} [s]\".format(timer() - start))"
   ]
  },
  {
   "cell_type": "code",
   "execution_count": null,
   "metadata": {},
   "outputs": [],
   "source": [
    "plt.figure()\n",
    "gridshow(single_scan_map.occupancy(), cmap=plt.cm.Greys)"
   ]
  },
  {
   "cell_type": "code",
   "execution_count": null,
   "metadata": {},
   "outputs": [],
   "source": [
    "import tf\n",
    "poses = np.array([np.array([\n",
    "      pose[0][0],\n",
    "      pose[0][1], \n",
    "      tf.transformations.euler_from_quaternion(pose[1])[2]\n",
    "                  ]) for pose in q.tfs])"
   ]
  },
  {
   "cell_type": "code",
   "execution_count": null,
   "metadata": {},
   "outputs": [],
   "source": [
    "from map2d import LocalMap2D\n",
    "local_map = LocalMap2D(kLocalAreaLimits, map_.resolution(),\n",
    "                        sensor_model={\"p_hit\": 0.75, \"p_miss\": 0.25},\n",
    "                        max_observations=kNMessages)\n",
    "start = timer()\n",
    "for scan, pose in zip(q.messages, poses):\n",
    "  local_map.add_observation(scan, pose, pose)\n",
    "tic = timer()\n",
    "local_map2 = local_map.copy()\n",
    "toc = timer()\n",
    "local = local_map2.generate()\n",
    "print(\"LocalMap2D Generation: {} s\".format(timer() - start))\n",
    "print(\"  Copy: {} s\".format(toc - tic))"
   ]
  },
  {
   "cell_type": "code",
   "execution_count": null,
   "metadata": {},
   "outputs": [],
   "source": [
    "# for visualization purposes\n",
    "# poses in local map frame\n",
    "current_pose = poses[-1]\n",
    "r = np.array([ # rotation for oTa inverse, o = odom frame, a = current_scan frame\n",
    "    [np.cos(current_pose[2]), np.sin(current_pose[2])],\n",
    "    [-np.sin(current_pose[2]), np.cos(current_pose[2])],\n",
    "    ])\n",
    "rel_poses = []\n",
    "for pose in poses:\n",
    "    rel_pose = pose - current_pose\n",
    "    rel_pose[:2] = np.sum(r * rel_pose[:2], axis = -1) # rel_pose x y in current_scan frame\n",
    "    rel_poses.append(rel_pose)\n",
    "rel_poses = np.array(rel_poses)\n",
    "# rel_poses in local map grid\n",
    "x_ = (rel_poses[:,0] - local_map2.origin[0]) / local_map2.resolution()\n",
    "y_ = (rel_poses[:,1] - local_map2.origin[1])/ local_map2.resolution()\n",
    "u_ = np.cos(rel_poses[:,2])/ local_map2.resolution()\n",
    "v_ = np.sin(rel_poses[:,2])/ local_map2.resolution()"
   ]
  },
  {
   "cell_type": "code",
   "execution_count": null,
   "metadata": {
    "scrolled": false
   },
   "outputs": [],
   "source": [
    "plt.figure()\n",
    "gridshow(local.occupancy())\n",
    "plt.quiver(x_, y_, u_, v_, color='red')\n",
    "\n",
    "#plt.figure()\n",
    "#gridshow(err[2])"
   ]
  },
  {
   "cell_type": "code",
   "execution_count": null,
   "metadata": {},
   "outputs": [],
   "source": [
    "start = timer()\n",
    "submaps = [Map2D() for i in range(len(q.messages))]\n",
    "for scan, submap in zip(q.messages, submaps):\n",
    "    scan.ranges = [1000. if r == 0 else r for r in scan.ranges] # find far away points\n",
    "    submap.from_scan(scan, map_.resolution(), kLocalAreaLimits)\n",
    "print(\"Reverse raytrace on {} messages: {} [s]\".format(kNMessages, timer() - start))"
   ]
  },
  {
   "cell_type": "code",
   "execution_count": null,
   "metadata": {},
   "outputs": [],
   "source": [
    "# legacy map combining for performance reference\n",
    "tic = timer()\n",
    "incr_map = np.array([submap.occupancy() for submap in submaps])\n",
    "incr_map[incr_map == 0] = 0.25\n",
    "incr_map[incr_map == 1] = 0.75\n",
    "print(timer() - tic)\n",
    "final_map = np.prod(incr_map + 0.5, axis=0 )\n",
    "def new_odds(latest, old):\n",
    "    combined_odds = old / ( 1 - old ) * latest / ( 1 - latest )\n",
    "    return np.clip(combined_odds / ( 1 + combined_odds ) ,1e-10,1-1e-10)\n",
    "start = timer()\n",
    "final_map = reduce(new_odds, incr_map)\n",
    "print(\"Combining {} maps into one: {} s\".format(kNMessages, timer() - start))\n",
    "plt.figure()\n",
    "gridshow(final_map)"
   ]
  },
  {
   "cell_type": "code",
   "execution_count": null,
   "metadata": {},
   "outputs": [],
   "source": [
    "start = timer()\n",
    "x_entropy_error, latest_hits = local_map2.cross_entropy_error(local_map2.observations[local_map2.ci_(0)],\n",
    "                               np.array([0,0,0]),\n",
    "                               local.occupancy())\n",
    "print(\"Cross-entropy error: {}\".format(timer() - start))"
   ]
  },
  {
   "cell_type": "code",
   "execution_count": null,
   "metadata": {},
   "outputs": [],
   "source": [
    "plt.figure()\n",
    "plt.plot(x_entropy_error)\n",
    "plt.figure()\n",
    "gridshow(local.occupancy())\n",
    "plt.scatter(latest_hits[:,0], latest_hits[:,1], c=x_entropy_error, s=1, cmap=plt.cm.rainbow)"
   ]
  },
  {
   "cell_type": "markdown",
   "metadata": {},
   "source": [
    "## Debug Global Planner"
   ]
  },
  {
   "cell_type": "code",
   "execution_count": null,
   "metadata": {},
   "outputs": [],
   "source": [
    "# memory intensive!\n",
    "start = timer()\n",
    "sdf = map_8ds.as_sdf()\n",
    "print(\"ESDF on 8x downsampled map: {}s\".format(timer()- start))\n",
    "\n",
    "start = timer()\n",
    "tsdf = map_.as_tsdf(0.5)\n",
    "print(\"TSDF on full-res map: {}s\".format(timer()- start))"
   ]
  },
  {
   "cell_type": "code",
   "execution_count": null,
   "metadata": {},
   "outputs": [],
   "source": [
    "plt.figure()\n",
    "gridshow(sdf)\n",
    "plt.tight_layout()"
   ]
  },
  {
   "cell_type": "code",
   "execution_count": null,
   "metadata": {},
   "outputs": [],
   "source": [
    "plt.figure()\n",
    "gridshow(tsdf)\n",
    "plt.tight_layout()"
   ]
  },
  {
   "cell_type": "code",
   "execution_count": null,
   "metadata": {},
   "outputs": [],
   "source": [
    "plt.figure()\n",
    "traversable_sdf = sdf * (sdf > (kPepperWidth * 0.5))\n",
    "gridshow(traversable_sdf)\n",
    "plt.tight_layout()"
   ]
  },
  {
   "cell_type": "code",
   "execution_count": null,
   "metadata": {
    "scrolled": false
   },
   "outputs": [],
   "source": [
    "sdf_dx, sdf_dy = np.gradient(traversable_sdf)\n",
    "plt.figure()\n",
    "gridshow(sdf_dx)\n",
    "plt.tight_layout()\n",
    "plt.figure()\n",
    "gridshow(sdf_dy)\n",
    "plt.tight_layout()"
   ]
  },
  {
   "cell_type": "code",
   "execution_count": null,
   "metadata": {
    "scrolled": true
   },
   "outputs": [],
   "source": [
    "start = timer()\n",
    "dijkstra = map_8ds.dijkstra(np.array([288, 100]), mask=sdf < 0,\n",
    "                           extra_costs = kDijkstraTSDFPenalty*(kPepperComfortZoneRadius - sdf) * (sdf < kPepperComfortZoneRadius))\n",
    "max_dijkstra = dijkstra[dijkstra < dijkstra.max()].max()\n",
    "print(timer()- start)"
   ]
  },
  {
   "cell_type": "code",
   "execution_count": null,
   "metadata": {},
   "outputs": [],
   "source": [
    "#start = timer()\n",
    "#fdijkstra = map_.dijkstra(np.array([2800, 1300]), mask=tsdf < 0,\n",
    "#                           extra_costs = kDijkstraTSDFPenalty*(kPepperComfortZoneRadius - tsdf) * (tsdf < kPepperComfortZoneRadius))\n",
    "#print(timer()- start)"
   ]
  },
  {
   "cell_type": "code",
   "execution_count": null,
   "metadata": {},
   "outputs": [],
   "source": [
    "plt.figure()\n",
    "gridshow(dijkstra, vmax=dijkstra[dijkstra < dijkstra.max()].max())\n",
    "plt.tight_layout()"
   ]
  },
  {
   "cell_type": "code",
   "execution_count": null,
   "metadata": {},
   "outputs": [],
   "source": [
    "#plt.figure()\n",
    "#gridshow(fdijkstra, vmax=fdijkstra[fdijkstra < fdijkstra.max()].max())\n",
    "#plt.tight_layout()"
   ]
  },
  {
   "cell_type": "code",
   "execution_count": null,
   "metadata": {
    "scrolled": false
   },
   "outputs": [],
   "source": [
    "kSDFDiscount = 0.9 # [1/sqrt(2) to 1[\n",
    "\n",
    "#sdf_cost = - sdf * kSDFDiscount + (kPepperComfortZoneRadius - sdf) * (sdf < kPepperComfortZoneRadius) + 100000 * (sdf <  (kPepperWidth  * 0.5))\n",
    "costmap = dijkstra\n",
    "\n",
    "plt.figure()\n",
    "gridshow(costmap, vmax=max_dijkstra)\n",
    "plt.tight_layout()"
   ]
  },
  {
   "cell_type": "code",
   "execution_count": null,
   "metadata": {},
   "outputs": [],
   "source": [
    "grad_xx, grad_yy = np.gradient(costmap)\n",
    "keepmask = np.where(traversable_sdf > 0)\n",
    "grad_x = grad_xx[keepmask]\n",
    "grad_y = grad_yy[keepmask]\n",
    "norm = np.sqrt(grad_x* grad_x + grad_y * grad_y)\n",
    "xx, yy = np.meshgrid(np.arange(map_8ds.occupancy().shape[0]),\n",
    "                     np.arange(map_8ds.occupancy().shape[1]), indexing=\"ij\")\n",
    "x_ = xx[keepmask]\n",
    "y_ = yy[keepmask]\n",
    "plt.figure()\n",
    "#plt.figure(figsize=(80,40))\n",
    "gridshow(map_8ds.occupancy(), cmap=plt.cm.Greys)\n",
    "plt.quiver(x_, y_, -grad_x/norm, -grad_y/norm, np.minimum(norm, 1), units='x', headaxislength=3, headwidth=3, headlength=3, width=0.1)\n",
    "plt.colorbar()\n",
    "#plt.savefig(\"costmap_gradient.png\")"
   ]
  },
  {
   "cell_type": "code",
   "execution_count": null,
   "metadata": {},
   "outputs": [],
   "source": [
    "norm_grid = np.sqrt(grad_xx* grad_xx + grad_yy * grad_yy)\n",
    "ngrad_xx = -grad_xx / norm_grid\n",
    "ngrad_xx[norm_grid == 0] = 0\n",
    "ngrad_xx[ngrad_xx > 1] = 0\n",
    "ngrad_yy = -grad_yy / norm_grid\n",
    "ngrad_yy[norm_grid == 0] = 0\n",
    "ngrad_yy[ngrad_yy > 1] = 0\n",
    "plt.figure()\n",
    "gridshow(ngrad_xx)\n",
    "plt.figure()\n",
    "gridshow(ngrad_yy)"
   ]
  },
  {
   "cell_type": "code",
   "execution_count": null,
   "metadata": {},
   "outputs": [],
   "source": [
    "def compute_path(costmap, first):\n",
    "    start = timer()\n",
    "    r = np.roll(costmap, -1, axis=0) - costmap\n",
    "    l = np.roll(costmap,  1, axis=0) - costmap\n",
    "    u = np.roll(costmap, -1, axis=1) - costmap\n",
    "    d = np.roll(costmap,  1, axis=1) - costmap\n",
    "    edge_costs = np.stack([r, l, u, d], axis=-1)\n",
    "    offsets = np.array([\n",
    "                        [ 1, 0],\n",
    "                        [-1, 0],\n",
    "                        [0,  1],\n",
    "                        [0, -1]])\n",
    "    # trace path\n",
    "    path = []\n",
    "    jump_log = []\n",
    "    \n",
    "    path.append(first)\n",
    "\n",
    "    while True:\n",
    "        current = path[-1]\n",
    "        current_idx = tuple(current.astype(int))\n",
    "        choices = edge_costs[current_idx]\n",
    "        cheapest = np.argsort(choices)\n",
    "        best_cost = choices[cheapest[0]]\n",
    "        second_best_cost = choices[cheapest[1]]\n",
    "        selected_offset = offsets[cheapest[0]]\n",
    "        has_jumped = False\n",
    "        if best_cost >= 0:\n",
    "            print(\"local minima\")\n",
    "            jump_log.append(has_jumped)\n",
    "            break\n",
    "        if second_best_cost < 0:\n",
    "            # probabilistic jump\n",
    "            rand = np.random.random()\n",
    "            jump_chance = (second_best_cost \n",
    "                                     / (best_cost + second_best_cost))\n",
    "            if rand <= jump_chance:\n",
    "                selected_offset = offsets[cheapest[1]]\n",
    "                has_jumped = True\n",
    "        next_ = current + selected_offset\n",
    "        path.append(next_)\n",
    "        jump_log.append(has_jumped)\n",
    "\n",
    "    print(timer() - start)\n",
    "    return path, jump_log\n",
    "path, jump_log = compute_path(dijkstra, first = np.array([70, 50]))\n",
    "global_path = np.array(path)"
   ]
  },
  {
   "cell_type": "code",
   "execution_count": null,
   "metadata": {},
   "outputs": [],
   "source": [
    "#plt.figure(figsize=(30,20))\n",
    "plt.figure()\n",
    "gridshow(costmap, vmax=max_dijkstra)\n",
    "#gridshow(map_8ds.occupancy(), cmap=plt.cm.Greys)\n",
    "#plt.quiver(x_, y_, -grad_x/norm, grad_y/norm, np.minimum(norm, 1), units='x', headaxislength=3, headwidth=3, headlength=3, width=0.1)\n",
    "plt.scatter(np.array(path)[:,0], np.array(path)[:,1], c=np.array(jump_log) + 1,\n",
    "           edgecolor=\"none\", marker='s', cmap=plt.cm.autumn, s=10) #np.arange(len(path)))\n",
    "plt.tight_layout()\n",
    "#plt.savefig(\"plannedpath.png\")"
   ]
  },
  {
   "cell_type": "code",
   "execution_count": null,
   "metadata": {
    "scrolled": false
   },
   "outputs": [],
   "source": [
    "plt.figure()\n",
    "gridshow(map_.occupancy(), cmap=plt.cm.Greys)\n",
    "plt.tight_layout()"
   ]
  },
  {
   "cell_type": "code",
   "execution_count": null,
   "metadata": {},
   "outputs": [],
   "source": [
    "plt.figure()\n",
    "gridshow(map_8ds.occupancy(), cmap=plt.cm.Greys)\n",
    "plt.tight_layout()"
   ]
  },
  {
   "cell_type": "markdown",
   "metadata": {},
   "source": [
    "## Debug Lidar"
   ]
  },
  {
   "cell_type": "code",
   "execution_count": null,
   "metadata": {},
   "outputs": [],
   "source": [
    "virtual_pepper_debug = Virtual2DPepper(map_, debug=True)\n",
    "virtual_pepper = Virtual2DPepper(map_)"
   ]
  },
  {
   "cell_type": "code",
   "execution_count": null,
   "metadata": {},
   "outputs": [],
   "source": [
    "debug_out = []\n",
    "virtual_pepper_debug.raytrace(virtual_pepper_debug.kTFBaseLinkToLidarRear, [], debug_out)\n",
    "angles, ray_r, ray_i, ray_j, ray_x, ray_y, hits, ranges = debug_out"
   ]
  },
  {
   "cell_type": "code",
   "execution_count": null,
   "metadata": {},
   "outputs": [],
   "source": [
    "start = timer()\n",
    "ranges_no_debug = virtual_pepper.raytrace(virtual_pepper.kTFBaseLinkToLidarRear, [])\n",
    "print(\"Raytrace took: {} [s]\".format(timer() - start))"
   ]
  },
  {
   "cell_type": "code",
   "execution_count": null,
   "metadata": {
    "scrolled": false
   },
   "outputs": [],
   "source": [
    "plt.figure(figsize=(10,5))\n",
    "gridshow(map_.occupancy(), cmap=plt.cm.Greys)\n",
    "#plt.scatter(ranges_i, ranges_j)\n",
    "plt.scatter(ray_i[::50,:].T, ray_j[::50,:].T, c=hits[::50,:].T, cmap=plt.cm.Pastel1,s=1,edgecolors=\"none\")\n",
    "ranges_x = ranges * np.cos(angles) + ray_x[0,0]\n",
    "ranges_y = ranges * np.sin(angles) + ray_y[0,0]\n",
    "plt.scatter(*map_.xy_to_ij(ranges_x, ranges_y), c='red', s=1,edgecolors=\"none\")\n",
    "plt.tight_layout()\n",
    "plt.show()"
   ]
  },
  {
   "cell_type": "code",
   "execution_count": null,
   "metadata": {},
   "outputs": [],
   "source": [
    "plt.figure()\n",
    "plt.plot(ranges)\n",
    "plt.plot(ranges_no_debug)"
   ]
  },
  {
   "cell_type": "markdown",
   "metadata": {},
   "source": [
    "## Debug Map2D"
   ]
  },
  {
   "cell_type": "code",
   "execution_count": null,
   "metadata": {},
   "outputs": [],
   "source": [
    "tic = timer()\n",
    "map_.as_occupied_points_ij(numba=True)\n",
    "toc = timer()\n",
    "print(\"Occupied points (numba): {}s\".format(abs(toc-tic)))\n",
    "\n",
    "tic = timer()\n",
    "map_.as_occupied_points_ij(numba=False)\n",
    "toc = timer()\n",
    "print(\"Occupied points: {}s\".format(abs(toc-tic)))"
   ]
  },
  {
   "cell_type": "markdown",
   "metadata": {},
   "source": [
    "## Debug Branch and Bound"
   ]
  },
  {
   "cell_type": "code",
   "execution_count": null,
   "metadata": {},
   "outputs": [],
   "source": [
    "from branch_and_bound import BranchAndBound"
   ]
  },
  {
   "cell_type": "code",
   "execution_count": null,
   "metadata": {},
   "outputs": [],
   "source": [
    "map_rot8ds = Map2D(\"/home/daniel/Desktop/\", \"gmapping_map2\").as_coarse_map2d().as_coarse_map2d().as_coarse_map2d()"
   ]
  },
  {
   "cell_type": "code",
   "execution_count": null,
   "metadata": {},
   "outputs": [],
   "source": [
    "bnb = BranchAndBound(map_8ds, rot_downsampling=2.)"
   ]
  },
  {
   "cell_type": "code",
   "execution_count": null,
   "metadata": {
    "scrolled": true
   },
   "outputs": [],
   "source": [
    "if False:\n",
    "    import cProfile\n",
    "    cProfile.run(\"score, pose, theta = bnb.branch_and_bound(map_rot8ds, match_threshold='1/2 matched points')\")\n",
    "else:\n",
    "    score, pose, theta = 0, np.array([0,0]), 0"
   ]
  },
  {
   "cell_type": "code",
   "execution_count": null,
   "metadata": {},
   "outputs": [],
   "source": [
    "print(score, pose, theta)"
   ]
  },
  {
   "cell_type": "code",
   "execution_count": null,
   "metadata": {
    "scrolled": true
   },
   "outputs": [],
   "source": [
    "plt.figure()\n",
    "gridshow(map_rot8ds.occupancy(), cmap=plt.cm.Greys)\n",
    "plt.figure()\n",
    "hits = map_rot8ds.as_occupied_points_ij()\n",
    "hits = bnb.rotate_points_around_map_center(hits, theta, map_rot8ds)\n",
    "hits += pose\n",
    "hits = hits[map_8ds.is_inside_ij(hits)]\n",
    "gridshow(map_8ds.occupancy(), cmap=plt.cm.Greys)\n",
    "is_confirmed_hit = map_8ds.occupancy()[tuple(hits[map_8ds.is_inside_ij(hits)].T)]\n",
    "plt.scatter(hits[:,0], hits[:,1], c=is_confirmed_hit, s=1, cmap=plt.cm.bwr)\n"
   ]
  },
  {
   "cell_type": "markdown",
   "metadata": {},
   "source": [
    "## Debug full"
   ]
  },
  {
   "cell_type": "code",
   "execution_count": null,
   "metadata": {},
   "outputs": [],
   "source": [
    "#virtual_pepper = Virtual2DPepper(map_)"
   ]
  },
  {
   "cell_type": "code",
   "execution_count": null,
   "metadata": {
    "scrolled": true
   },
   "outputs": [],
   "source": [
    "#virtual_pepper.run()"
   ]
  },
  {
   "cell_type": "markdown",
   "metadata": {},
   "source": [
    "## Localization"
   ]
  },
  {
   "cell_type": "code",
   "execution_count": null,
   "metadata": {},
   "outputs": [],
   "source": [
    "local.occupancy_ = np.pad(local.occupancy(), ((0,0), (0,100)), 'constant', constant_values=0.5) # shape must be divisible by 8"
   ]
  },
  {
   "cell_type": "code",
   "execution_count": null,
   "metadata": {},
   "outputs": [],
   "source": [
    "score, pose, theta = bnb.branch_and_bound(local.as_coarse_map2d().as_coarse_map2d().as_coarse_map2d(), \n",
    "                                          match_threshold='1/2 matched points',\n",
    "                                         )\n"
   ]
  },
  {
   "cell_type": "code",
   "execution_count": null,
   "metadata": {},
   "outputs": [],
   "source": [
    "plt.figure()\n",
    "hits = local.as_coarse_map2d().as_coarse_map2d().as_coarse_map2d().as_occupied_points_ij()\n",
    "hits = bnb.rotate_points_around_map_center(hits, theta, local.as_coarse_map2d().as_coarse_map2d().as_coarse_map2d())\n",
    "hits += pose\n",
    "gridshow(map_8ds.occupancy(), cmap=plt.cm.Greys)\n",
    "plt.scatter(hits[:,0], hits[:,1], c=map_8ds.occupancy()[tuple(hits.T)], s=1, cmap=plt.cm.bwr)"
   ]
  },
  {
   "cell_type": "code",
   "execution_count": null,
   "metadata": {},
   "outputs": [],
   "source": [
    "ij = bnb.rotate_points_around_map_center(local.as_coarse_map2d().as_coarse_map2d().as_coarse_map2d().xy_to_ij([[0,0]]), theta, local.as_coarse_map2d().as_coarse_map2d().as_coarse_map2d()) + pose"
   ]
  },
  {
   "cell_type": "code",
   "execution_count": null,
   "metadata": {},
   "outputs": [],
   "source": [
    "pose2d_map8ds_local = np.block([ map_8ds.ij_to_xy(ij)[0], theta])"
   ]
  },
  {
   "cell_type": "code",
   "execution_count": null,
   "metadata": {},
   "outputs": [],
   "source": [
    "from motion_planner import MotionPlanner\n",
    "mp = MotionPlanner(map_)"
   ]
  },
  {
   "cell_type": "markdown",
   "metadata": {},
   "source": [
    "## Local Path Planning"
   ]
  },
  {
   "cell_type": "code",
   "execution_count": null,
   "metadata": {},
   "outputs": [],
   "source": [
    "global_path, global_jump_log = compute_path(dijkstra, ij[0])\n",
    "global_path = np.array(global_path)\n",
    "global_path_in_local_ij= local.xy_to_ij(pose2d.apply_tf(map_8ds.ij_to_xy(global_path), pose2d.inverse_pose2d(pose2d_map8ds_local)), clip_if_outside=False)"
   ]
  },
  {
   "cell_type": "code",
   "execution_count": null,
   "metadata": {},
   "outputs": [],
   "source": [
    "plt.figure()\n",
    "tic = timer()\n",
    "local_tsdf = local.as_tsdf(0.5)\n",
    "print(\"TSDF: {}\".format(timer() - tic))\n",
    "gridshow(local.as_tsdf(0.5))\n",
    "plt.scatter(latest_hits[:,0], latest_hits[:,1], color='red', s=1)"
   ]
  },
  {
   "cell_type": "code",
   "execution_count": null,
   "metadata": {
    "scrolled": true
   },
   "outputs": [],
   "source": [
    "plt.figure()\n",
    "gridshow(local.occupancy())\n",
    "plt.scatter(global_path_in_local_ij[:,0], global_path_in_local_ij[:,1], c=np.array(global_jump_log) + 1,\n",
    "           edgecolor=\"none\", marker='s', cmap=plt.cm.autumn, s=10)\n",
    "in_mask = local.is_inside_ij(global_path_in_local_ij)\n",
    "valid_mask = local_tsdf[tuple(global_path_in_local_ij[in_mask].T)] > 0\n",
    "local_goal = global_path_in_local_ij[in_mask][valid_mask][-1]"
   ]
  },
  {
   "cell_type": "code",
   "execution_count": null,
   "metadata": {},
   "outputs": [],
   "source": [
    "plt.figure()\n",
    "tic = timer()\n",
    "local_dijkstra = local.dijkstra(local_goal, mask=local_tsdf < 0,\n",
    "                           extra_costs = kDijkstraTSDFPenalty*(kPepperComfortZoneRadius - local_tsdf) * (local_tsdf < kPepperComfortZoneRadius))\n",
    "print(\"Dijkstra: {}\".format(timer() - tic))\n",
    "gridshow(local_dijkstra, vmax=local_dijkstra[local_dijkstra < local_dijkstra.max()].max())\n",
    "plt.scatter(local_goal[0], local_goal[1], edgecolor=\"none\", marker='s', color='r', s=10)"
   ]
  },
  {
   "cell_type": "markdown",
   "metadata": {},
   "source": [
    "## Path Smoothing"
   ]
  },
  {
   "cell_type": "code",
   "execution_count": null,
   "metadata": {
    "scrolled": false
   },
   "outputs": [],
   "source": [
    "path, jump_log = compute_path(local_dijkstra, first = np.array([150, 150]))\n",
    "path_downsample_factor = int(len(path) / 30)\n",
    "path_downsample_factor = 1 if path_downsample_factor == 0 else path_downsample_factor\n",
    "path = path[::path_downsample_factor]\n",
    "#path = global_path_in_local_ij[in_mask][valid_mask]\n",
    "path = np.array(path).astype(float)\n",
    "\n",
    "orig_path = np.array(path).copy()\n",
    "\n",
    "min_tsdf_val = local_tsdf[tuple(path.T.astype(int))]\n",
    "start_angle = 1.5\n",
    "end_angle = np.arctan2(*(path[-1] - path[-2])[::-1])\n",
    "local_comfort_tsdf = np.clip(local_tsdf, None, kPepperComfortZoneRadius)\n",
    "    \n",
    "from path_smoothing import path_smoothing, curvature_\n",
    "tic = timer()\n",
    "new_path, immobile = path_smoothing(path, local_comfort_tsdf, start_angle, end_angle)\n",
    "\n",
    "print(\"Path smoothing: {}s\".format(timer() - tic))\n",
    "curvature = curvature_(local.ij_to_xy(new_path), start_angle, end_angle)"
   ]
  },
  {
   "cell_type": "code",
   "execution_count": null,
   "metadata": {
    "scrolled": false
   },
   "outputs": [],
   "source": [
    "plt.figure()\n",
    "gridshow(local_tsdf)\n",
    "plt.scatter(orig_path[:,0], orig_path[:,1], color='k', edgecolor=\"none\", marker='s', s=10)\n",
    "plt.scatter(new_path[:,0], new_path[:,1], color='r', edgecolor=\"none\", marker='s', s=10)\n",
    "plt.scatter(new_path[immobile][:,0], new_path[immobile][:,1], color='w', edgecolor=\"none\", marker='s', s=10)\n",
    "\n",
    "plt.figure()\n",
    "plt.step(np.arange(len(curvature)), curvature, where='mid')\n",
    "curvature[:5]"
   ]
  },
  {
   "cell_type": "code",
   "execution_count": null,
   "metadata": {},
   "outputs": [],
   "source": [
    "kPepperMaxAccXY = 0.55\n",
    "kPepperMaxVelXY = 0.55\n",
    "vmax = np.sqrt(kPepperMaxAccXY/ np.abs(curvature))\n",
    "plt.figure()\n",
    "plt.step(np.arange(len(vmax)), vmax, where='mid')\n",
    "plt.axhline(kPepperMaxVelXY, color='r')\n",
    "plt.ylim([0,10])"
   ]
  },
  {
   "cell_type": "code",
   "execution_count": null,
   "metadata": {},
   "outputs": [],
   "source": [
    "np.min(vmax)"
   ]
  },
  {
   "cell_type": "code",
   "execution_count": null,
   "metadata": {},
   "outputs": [],
   "source": []
  },
  {
   "cell_type": "code",
   "execution_count": null,
   "metadata": {},
   "outputs": [],
   "source": []
  }
 ],
 "metadata": {
  "kernelspec": {
   "display_name": "Python 2",
   "language": "python",
   "name": "python2"
  },
  "language_info": {
   "codemirror_mode": {
    "name": "ipython",
    "version": 2
   },
   "file_extension": ".py",
   "mimetype": "text/x-python",
   "name": "python",
   "nbconvert_exporter": "python",
   "pygments_lexer": "ipython2",
   "version": "2.7.12"
  }
 },
 "nbformat": 4,
 "nbformat_minor": 2
}
